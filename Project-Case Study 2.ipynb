{
 "cells": [
  {
   "cell_type": "markdown",
   "metadata": {},
   "source": [
    "# Case Study"
   ]
  },
  {
   "cell_type": "code",
   "execution_count": 2,
   "metadata": {},
   "outputs": [],
   "source": [
    "import numpy as np\n",
    "import pandas as pd\n",
    "import matplotlib.pyplot as plt"
   ]
  },
  {
   "cell_type": "markdown",
   "metadata": {},
   "source": [
    "### Q-1. Your Friend has developed the Product and he wants to establish the product startup and he is searching for a perfect location where getting the investment has a high chance. But due to its financial restriction, he can choose only between three locations -  Bangalore, Mumbai, and NCR. As a friend, you want to help your friend deciding the location. NCR include Gurgaon, Noida and New Delhi. Find the location where the most number of funding is done. That means, find the location where startups has received funding maximum number of times. Plot the bar graph between location and number of funding. Take city name \"Delhi\" as \"New Delhi\". Check the case-sensitiveness of cities also. That means, at some place instead of \"Bangalore\", \"bangalore\" is given. Take city name as \"Bangalore\". For few startups multiple locations are given, one Indian and one Foreign. Consider the startup if any one of the city lies in given locations."
   ]
  },
  {
   "cell_type": "markdown",
   "metadata": {},
   "source": [
    "### Importing the file"
   ]
  },
  {
   "cell_type": "code",
   "execution_count": 14,
   "metadata": {},
   "outputs": [
    {
     "data": {
      "text/html": [
       "<div>\n",
       "<style scoped>\n",
       "    .dataframe tbody tr th:only-of-type {\n",
       "        vertical-align: middle;\n",
       "    }\n",
       "\n",
       "    .dataframe tbody tr th {\n",
       "        vertical-align: top;\n",
       "    }\n",
       "\n",
       "    .dataframe thead th {\n",
       "        text-align: right;\n",
       "    }\n",
       "</style>\n",
       "<table border=\"1\" class=\"dataframe\">\n",
       "  <thead>\n",
       "    <tr style=\"text-align: right;\">\n",
       "      <th></th>\n",
       "      <th>SNo</th>\n",
       "      <th>Date</th>\n",
       "      <th>StartupName</th>\n",
       "      <th>IndustryVertical</th>\n",
       "      <th>SubVertical</th>\n",
       "      <th>CityLocation</th>\n",
       "      <th>InvestorsName</th>\n",
       "      <th>InvestmentType</th>\n",
       "      <th>AmountInUSD</th>\n",
       "      <th>Remarks</th>\n",
       "    </tr>\n",
       "  </thead>\n",
       "  <tbody>\n",
       "    <tr>\n",
       "      <th>0</th>\n",
       "      <td>0</td>\n",
       "      <td>01/08/2017</td>\n",
       "      <td>TouchKin</td>\n",
       "      <td>Technology</td>\n",
       "      <td>Predictive Care Platform</td>\n",
       "      <td>Bangalore</td>\n",
       "      <td>Kae Capital</td>\n",
       "      <td>Private Equity</td>\n",
       "      <td>1,300,000</td>\n",
       "      <td>NaN</td>\n",
       "    </tr>\n",
       "    <tr>\n",
       "      <th>1</th>\n",
       "      <td>1</td>\n",
       "      <td>02/08/2017</td>\n",
       "      <td>Ethinos</td>\n",
       "      <td>Technology</td>\n",
       "      <td>Digital Marketing Agency</td>\n",
       "      <td>Mumbai</td>\n",
       "      <td>Triton Investment Advisors</td>\n",
       "      <td>Private Equity</td>\n",
       "      <td>NaN</td>\n",
       "      <td>NaN</td>\n",
       "    </tr>\n",
       "    <tr>\n",
       "      <th>2</th>\n",
       "      <td>2</td>\n",
       "      <td>02/08/2017</td>\n",
       "      <td>Leverage Edu</td>\n",
       "      <td>Consumer Internet</td>\n",
       "      <td>Online platform for Higher Education Services</td>\n",
       "      <td>New Delhi</td>\n",
       "      <td>Kashyap Deorah, Anand Sankeshwar, Deepak Jain,...</td>\n",
       "      <td>Seed Funding</td>\n",
       "      <td>NaN</td>\n",
       "      <td>NaN</td>\n",
       "    </tr>\n",
       "    <tr>\n",
       "      <th>3</th>\n",
       "      <td>3</td>\n",
       "      <td>02/08/2017</td>\n",
       "      <td>Zepo</td>\n",
       "      <td>Consumer Internet</td>\n",
       "      <td>DIY Ecommerce platform</td>\n",
       "      <td>Mumbai</td>\n",
       "      <td>Kunal Shah, LetsVenture, Anupam Mittal, Hetal ...</td>\n",
       "      <td>Seed Funding</td>\n",
       "      <td>500,000</td>\n",
       "      <td>NaN</td>\n",
       "    </tr>\n",
       "    <tr>\n",
       "      <th>4</th>\n",
       "      <td>4</td>\n",
       "      <td>02/08/2017</td>\n",
       "      <td>Click2Clinic</td>\n",
       "      <td>Consumer Internet</td>\n",
       "      <td>healthcare service aggregator</td>\n",
       "      <td>Hyderabad</td>\n",
       "      <td>Narottam Thudi, Shireesh Palle</td>\n",
       "      <td>Seed Funding</td>\n",
       "      <td>850,000</td>\n",
       "      <td>NaN</td>\n",
       "    </tr>\n",
       "  </tbody>\n",
       "</table>\n",
       "</div>"
      ],
      "text/plain": [
       "   SNo        Date   StartupName   IndustryVertical  \\\n",
       "0    0  01/08/2017      TouchKin         Technology   \n",
       "1    1  02/08/2017       Ethinos         Technology   \n",
       "2    2  02/08/2017  Leverage Edu  Consumer Internet   \n",
       "3    3  02/08/2017          Zepo  Consumer Internet   \n",
       "4    4  02/08/2017  Click2Clinic  Consumer Internet   \n",
       "\n",
       "                                     SubVertical CityLocation  \\\n",
       "0                       Predictive Care Platform    Bangalore   \n",
       "1                       Digital Marketing Agency       Mumbai   \n",
       "2  Online platform for Higher Education Services    New Delhi   \n",
       "3                         DIY Ecommerce platform       Mumbai   \n",
       "4                  healthcare service aggregator    Hyderabad   \n",
       "\n",
       "                                       InvestorsName  InvestmentType  \\\n",
       "0                                        Kae Capital  Private Equity   \n",
       "1                         Triton Investment Advisors  Private Equity   \n",
       "2  Kashyap Deorah, Anand Sankeshwar, Deepak Jain,...    Seed Funding   \n",
       "3  Kunal Shah, LetsVenture, Anupam Mittal, Hetal ...    Seed Funding   \n",
       "4                     Narottam Thudi, Shireesh Palle    Seed Funding   \n",
       "\n",
       "  AmountInUSD Remarks  \n",
       "0   1,300,000     NaN  \n",
       "1         NaN     NaN  \n",
       "2         NaN     NaN  \n",
       "3     500,000     NaN  \n",
       "4     850,000     NaN  "
      ]
     },
     "execution_count": 14,
     "metadata": {},
     "output_type": "execute_result"
    }
   ],
   "source": [
    "startup = pd.read_csv(\"startup_funding.csv\")\n",
    "startup.head()"
   ]
  },
  {
   "cell_type": "markdown",
   "metadata": {},
   "source": [
    "### Top 10 Indian cities to get startup funding"
   ]
  },
  {
   "cell_type": "code",
   "execution_count": 15,
   "metadata": {},
   "outputs": [
    {
     "data": {
      "text/plain": [
       "Bangalore    635\n",
       "Mumbai       449\n",
       "New Delhi    389\n",
       "Gurgaon      241\n",
       "Pune          91\n",
       "Noida         79\n",
       "Hyderabad     77\n",
       "Chennai       67\n",
       "Ahmedabad     35\n",
       "Jaipur        25\n",
       "Name: CityLocation, dtype: int64"
      ]
     },
     "execution_count": 15,
     "metadata": {},
     "output_type": "execute_result"
    }
   ],
   "source": [
    "startup[\"CityLocation\"].dropna(inplace=True)\n",
    "def split(cityname):\n",
    "    return cityname.split('/')[0].strip()\n",
    "\n",
    "startup[\"CityLocation\"] = startup[\"CityLocation\"].apply(split)\n",
    "startup['CityLocation'].replace('Delhi', 'New Delhi', inplace = True)\n",
    "startup['CityLocation'].replace('bangalore', 'Bangalore', inplace = True)\n",
    "startup[\"CityLocation\"].value_counts().head(10)"
   ]
  },
  {
   "cell_type": "markdown",
   "metadata": {},
   "source": [
    "##### These are the top 10 cities that he can choose for startup with no of funding each cities has."
   ]
  },
  {
   "cell_type": "markdown",
   "metadata": {},
   "source": [
    "### No of funding done in preferred cities"
   ]
  },
  {
   "cell_type": "code",
   "execution_count": 16,
   "metadata": {},
   "outputs": [
    {
     "name": "stdout",
     "output_type": "stream",
     "text": [
      "{'Bangalore': 635, 'Mumbai': 449, 'NCR': 709}\n"
     ]
    }
   ],
   "source": [
    "preferred = [\"Bangalore\", \"Mumbai\", \"NCR\"]\n",
    "dic = {}\n",
    "for i in preferred:\n",
    "    if i == \"NCR\":\n",
    "        value = ((startup[\"CityLocation\"] == \"New Delhi\") | (startup[\"CityLocation\"] == \"Gurgaon\") | (startup[\"CityLocation\"] == \"Noida\")).sum()\n",
    "        dic[i] = dic.get(i, 0) + value\n",
    "    else:\n",
    "        value = (startup[\"CityLocation\"] == i).sum()\n",
    "        dic[i] = dic.get(i, 0) + value\n",
    "print(dic)"
   ]
  },
  {
   "cell_type": "markdown",
   "metadata": {},
   "source": [
    "### City with maximum no of startup funding"
   ]
  },
  {
   "cell_type": "code",
   "execution_count": 17,
   "metadata": {},
   "outputs": [
    {
     "name": "stdout",
     "output_type": "stream",
     "text": [
      "('NCR', 709)\n"
     ]
    }
   ],
   "source": [
    "import operator\n",
    "result = sorted(dic.items(), key = operator.itemgetter(1), reverse = True)[0]\n",
    "print(result)"
   ]
  },
  {
   "cell_type": "markdown",
   "metadata": {},
   "source": [
    "###### From this result it can be seen that best location for him to locate his startup will be NCR as it has highest no of fundings."
   ]
  },
  {
   "cell_type": "markdown",
   "metadata": {},
   "source": [
    "### Plotting the graph"
   ]
  },
  {
   "cell_type": "code",
   "execution_count": 90,
   "metadata": {
    "scrolled": true
   },
   "outputs": [
    {
     "data": {
      "image/png": "[encoded data removed]",
      "text/plain": [
       "<Figure size 432x288 with 1 Axes>"
      ]
     },
     "metadata": {
      "needs_background": "light"
     },
     "output_type": "display_data"
    }
   ],
   "source": [
    "fig = plt.figure()\n",
    "x = fig.add_axes([1,0,1,1])\n",
    "x.set_title('City Vs Number of Fundings')\n",
    "x.bar(dic.keys(), dic.values())\n",
    "plt.show()"
   ]
  },
  {
   "cell_type": "markdown",
   "metadata": {},
   "source": [
    "### Q-2. Even after trying for so many times, your friend’s startup could not find the investment. So you decided to take this matter in your hand and try to find the list of investors who probably can invest in your friend’s startup. Your list will increase the chance of your friend startup getting some initial investment by contacting these investors. Find the top 5 investors who have invested maximum number of times (consider repeat investments in one company also). In a startup, multiple investors might have invested. So consider each investor for that startup. Ignore undisclosed investors."
   ]
  },
  {
   "cell_type": "markdown",
   "metadata": {},
   "source": [
    "### Importing the file"
   ]
  },
  {
   "cell_type": "code",
   "execution_count": 25,
   "metadata": {},
   "outputs": [],
   "source": [
    "startup1 = pd.read_csv(\"startup_funding.csv\")"
   ]
  },
  {
   "cell_type": "markdown",
   "metadata": {},
   "source": [
    "### Correction in Startup Names"
   ]
  },
  {
   "cell_type": "code",
   "execution_count": 26,
   "metadata": {},
   "outputs": [],
   "source": [
    "startup1[\"StartupName\"].replace(\"Ola Cabs\", \"Ola\", inplace = True)\n",
    "startup1[\"StartupName\"].replace(\"Olacabs\", \"Ola\", inplace = True)\n",
    "startup1[\"StartupName\"].replace(\"Paytm Marketplace\", \"Paytm\", inplace = True)\n",
    "startup1[\"StartupName\"].replace(\"Flipkart.com\", \"Flipkart\", inplace = True)\n",
    "startup1[\"StartupName\"].replace(\"Oyo Rooms\", \"Oyo\", inplace = True)\n",
    "startup1[\"StartupName\"].replace(\"Oyorooms\", \"Oyo\", inplace = True)\n",
    "startup1[\"StartupName\"].replace(\"OyoRooms\", \"Oyo\", inplace = True)\n",
    "startup1[\"StartupName\"].replace(\"OYO Rooms\", \"Oyo\", inplace = True)\n",
    "startup1[\"AmountInUSD\"].fillna(\"0\", inplace = True)"
   ]
  },
  {
   "cell_type": "markdown",
   "metadata": {},
   "source": [
    "### Convering into numeric values"
   ]
  },
  {
   "cell_type": "code",
   "execution_count": 27,
   "metadata": {},
   "outputs": [],
   "source": [
    "def num_1(value):\n",
    "    if value != \"\":\n",
    "        return int(float(value.replace(',', '')))\n",
    "startup1[\"AmountInUSD\"] = startup1[\"AmountInUSD\"].apply(num_1)\n",
    "startup1[\"InvestorsName\"].dropna(inplace = True)\n",
    "\n",
    "dic = {}\n",
    "def name(val):\n",
    "    arr = val.split(\",\")\n",
    "    for i in arr:\n",
    "        key = i.strip()\n",
    "        dic[key] = dic.get(key, 0) + 1\n",
    "    \n",
    "startup1[\"InvestorsName\"].apply(name)\n",
    "name = []\n",
    "value = []\n",
    "for key in dic:\n",
    "    name.append(key)\n",
    "    value.append(dic[key])"
   ]
  },
  {
   "cell_type": "markdown",
   "metadata": {},
   "source": [
    "### Making array and printing result"
   ]
  },
  {
   "cell_type": "code",
   "execution_count": 28,
   "metadata": {},
   "outputs": [
    {
     "name": "stdout",
     "output_type": "stream",
     "text": [
      "Sequoia Capital 64\n",
      "Accel Partners 53\n",
      "Kalaari Capital 44\n",
      "SAIF Partners 41\n",
      "Indian Angel Network 40\n"
     ]
    }
   ],
   "source": [
    "np_values = np.array(value)\n",
    "np_names = np.array(name)\n",
    "\n",
    "X = np_values.argsort()[::-1][:5]\n",
    "for i in X:\n",
    "    print(np_names[i], np_values[i])"
   ]
  },
  {
   "cell_type": "markdown",
   "metadata": {},
   "source": [
    "##### So these are top 5 investors that have invested maximum no. of times and by contacting them first will help him to get investment for his startup."
   ]
  },
  {
   "cell_type": "markdown",
   "metadata": {},
   "source": [
    "### Q-3. After re-analysing the dataset you found out that some investors have invested in the same startup at different number of funding rounds. So before finalising the previous list, you want to improvise it by finding the top 5 investors who have invested in different number of startups. This list will be more helpful than your previous list in finding the investment for your friend startup. Find the top 5 investors who have invested maximum number of times in different companies. That means, if one investor has invested multiple times in one startup, count one for that company. There are many errors in startup names. Ignore correcting all, just handle the important ones - Ola, Flipkart, Oyo and Paytm."
   ]
  },
  {
   "cell_type": "markdown",
   "metadata": {},
   "source": [
    "### Importing file and correction in startup names"
   ]
  },
  {
   "cell_type": "code",
   "execution_count": 96,
   "metadata": {},
   "outputs": [],
   "source": [
    "startup2 = pd.read_csv(\"startup_funding.csv\")\n",
    "\n",
    "startup2[\"StartupName\"].replace(\"Ola Cabs\", \"Ola\", inplace = True)\n",
    "startup2[\"StartupName\"].replace(\"Olacabs\", \"Ola\", inplace = True)\n",
    "startup2[\"StartupName\"].replace(\"Paytm Marketplace\", \"Paytm\", inplace = True)\n",
    "startup2[\"StartupName\"].replace(\"Flipkart.com\", \"Flipkart\", inplace = True)\n",
    "startup2[\"StartupName\"].replace(\"Oyo Rooms\", \"Oyo\", inplace = True)\n",
    "startup2[\"StartupName\"].replace(\"Oyorooms\", \"Oyo\",inplace = True)\n",
    "startup2[\"StartupName\"].replace(\"OyoRooms\", \"Oyo\",inplace = True)\n",
    "startup2[\"StartupName\"].replace(\"OYO Rooms\", \"Oyo\",inplace = True)\n",
    "startup2[\"AmountInUSD\"].fillna(\"0\", inplace = True)\n",
    "startup2.dropna(subset = [\"StartupName\", \"InvestorsName\"], inplace = True)"
   ]
  },
  {
   "cell_type": "markdown",
   "metadata": {},
   "source": [
    "###  Creating dictionary to hold the keys as investor name and values as a set of all the startups invested in."
   ]
  },
  {
   "cell_type": "code",
   "execution_count": 99,
   "metadata": {},
   "outputs": [],
   "source": [
    "d = {}\n",
    "for i in startup2.index:\n",
    "    investorName = startup2[\"InvestorsName\"][i].strip()\n",
    "    if \",\" in investorName:\n",
    "        arrName = investorName.strip().split(\",\")\n",
    "        for j in arrName:\n",
    "            if j.strip() in d:\n",
    "                d[j.strip()].add(startup2[\"StartupName\"][i].strip())\n",
    "            else:\n",
    "                s = set()\n",
    "                d[j.strip()] = s   \n",
    "                d[j.strip()].add(startup2[\"StartupName\"][i].strip())\n",
    "            \n",
    "    else:\n",
    "        stripped = investorName.strip()\n",
    "        if stripped in d: \n",
    "            d[stripped].add((startup2[\"StartupName\"][i].strip()))\n",
    "        else:\n",
    "            s = set()\n",
    "            d[stripped] = s  \n",
    "            d[stripped].add(startup2[\"StartupName\"][i].strip())"
   ]
  },
  {
   "cell_type": "markdown",
   "metadata": {},
   "source": [
    "### Another dictionary to keep a count of the number of startups each investor invested in and then printing it"
   ]
  },
  {
   "cell_type": "code",
   "execution_count": 100,
   "metadata": {},
   "outputs": [
    {
     "name": "stdout",
     "output_type": "stream",
     "text": [
      "Sequoia Capital 48\n",
      "Accel Partners 47\n",
      "Kalaari Capital 41\n",
      "Indian Angel Network 40\n",
      "Blume Ventures 36\n"
     ]
    }
   ],
   "source": [
    "d1 = {}\n",
    "for i in d:\n",
    "    if i == \"\":\n",
    "        continue\n",
    "    d1[i] = len(d[i])\n",
    "    \n",
    "d2 = sorted(d1, key = d1.get, reverse = True)\n",
    "for i in d2[:5]:\n",
    "    print(i, d1[i])"
   ]
  },
  {
   "cell_type": "markdown",
   "metadata": {},
   "source": [
    "##### So these are the top 5 investor names who have invested maximum no. of times in different startup's.For him first priority would be to contact Sequoia Capital for his startup."
   ]
  },
  {
   "cell_type": "markdown",
   "metadata": {},
   "source": [
    "### Q-4. Even after putting so much effort in finding the probable investors, it didn't turn out to be helpful for your friend. So you went to your investor friend to understand the situation better and your investor friend explained to you about the different Investment Types and their features. This new information will be helpful in finding the right investor. Since your friend startup is at an early stage startup, the best-suited investment type would be - Seed Funding and Crowdfunding. Find the top 5 investors who have invested in a different number of startups and their investment type is Crowdfunding or Seed Funding. Correct spelling of investment types are - \"Private Equity\", \"Seed Funding\", \"Debt Funding\", and \"Crowd Funding\". Keep an eye for any spelling mistake. You can find this by printing unique values from this column. There are many errors in startup names. Ignore correcting all, just handle the important ones - Ola, Flipkart, Oyo and Paytm."
   ]
  },
  {
   "cell_type": "code",
   "execution_count": 102,
   "metadata": {},
   "outputs": [],
   "source": [
    "startup3 = pd.read_csv(\"startup_funding.csv\")\n",
    "\n",
    "startup3[\"AmountInUSD\"].fillna(\"0\", inplace = True)\n",
    "def num_1(value):\n",
    "    if value != \"\":\n",
    "        return int(float(value.replace(',', '')))\n",
    "\n",
    "startup3[\"AmountInUSD\"] = startup3[\"AmountInUSD\"].apply(num_1)\n",
    "\n",
    "# Correcting the investment typo errors\n",
    "startup3[\"InvestmentType\"].replace('SeedFunding', 'Seed Funding', inplace = True)\n",
    "startup3[\"InvestmentType\"].replace('PrivateEquity', 'Private Equity', inplace = True)\n",
    "startup3[\"InvestmentType\"].replace('Crowd funding', 'Crowd Funding', inplace = True)\n",
    "\n",
    "# Correcting the Startup names typo errors\n",
    "startup3[\"StartupName\"].replace(\"Ola Cabs\", \"Ola\", inplace = True)\n",
    "startup3[\"StartupName\"].replace(\"Olacabs\", \"Ola\", inplace = True)\n",
    "startup3[\"StartupName\"].replace(\"Paytm Marketplace\", \"Paytm\", inplace = True)\n",
    "startup3[\"StartupName\"].replace(\"Flipkart.com\", \"Flipkart\", inplace = True)\n",
    "startup3[\"StartupName\"].replace(\"Oyo Rooms\", \"Oyo\", inplace = True)\n",
    "startup3[\"StartupName\"].replace(\"Oyorooms\", \"Oyo\", inplace = True)\n",
    "startup3[\"StartupName\"].replace(\"OyoRooms\", \"Oyo\", inplace = True)\n",
    "startup3[\"StartupName\"].replace(\"OYO Rooms\", \"Oyo\", inplace = True)\n",
    "startup3[\"AmountInUSD\"].fillna(\"0\", inplace = True)\n",
    "\n",
    "# TAKING CARE OF THE NA VALUES:\n",
    "startup3.dropna(subset = [\"StartupName\",\"InvestorsName\",\"InvestmentType\"],inplace = True)\n",
    "startup3_copy= startup3.copy()\n",
    "\n",
    "#Limiting only to seed funding and crowd funding\n",
    "Condition = (startup3_copy[\"InvestmentType\"] == \"Crowdfunding\") | (startup3_copy[\"InvestmentType\"] == 'Seed Funding')\n",
    "startup3_copy = startup3_copy[Condition]"
   ]
  },
  {
   "cell_type": "code",
   "execution_count": 103,
   "metadata": {},
   "outputs": [
    {
     "name": "stdout",
     "output_type": "stream",
     "text": [
      "Indian Angel Network 33\n",
      "Rajan Anandan 23\n",
      "LetsVenture 16\n",
      "Anupam Mittal 16\n",
      "Kunal Shah 14\n"
     ]
    }
   ],
   "source": [
    "d = {}\n",
    "for i in startup3_copy.index:\n",
    "    investorName = startup3[\"InvestorsName\"][i].strip()\n",
    "    if \",\" in investorName:\n",
    "        arrName = investorName.strip().split(\",\")\n",
    "        for j in arrName:\n",
    "            if j.strip() in d:\n",
    "                d[j.strip()].add(startup3[\"StartupName\"][i].strip())\n",
    "            else:\n",
    "                s = set()\n",
    "                d[j.strip()] = s   \n",
    "                d[j.strip()].add(startup3[\"StartupName\"][i].strip())\n",
    "            \n",
    "    else:\n",
    "        stripped = investorName.strip()\n",
    "        if stripped in d: \n",
    "            d[stripped].add((startup3[\"StartupName\"][i].strip()))\n",
    "        else:\n",
    "            s = set()\n",
    "            d[stripped] = s  \n",
    "            d[stripped].add(startup3[\"StartupName\"][i].strip())\n",
    "            \n",
    "d1 = {}\n",
    "for i in d:\n",
    "    if i == \"\":\n",
    "        continue\n",
    "    d1[i] = len(d[i])\n",
    "    \n",
    "del d1[\"Undisclosed Investors\"]\n",
    "del d1[\"Undisclosed investors\"]\n",
    "\n",
    "d2 = sorted(d1, key = d1.get, reverse = True)\n",
    "\n",
    "for i in d2[:5]:\n",
    "    print(i, d1[i])"
   ]
  },
  {
   "cell_type": "markdown",
   "metadata": {},
   "source": [
    "##### So these are the top 5 investors who have invested in different startup's and their investment type is what is suited by him i.e. Crowd Funding or Seed Funding"
   ]
  },
  {
   "cell_type": "markdown",
   "metadata": {},
   "source": [
    "### Q-5. Due to your immense help, your friend startup successfully got seed funding and it is on the operational mode. Now your friend wants to expand his startup and he is looking for new investors for his startup. Now you again come as a saviour to help your friend and want to create a list of probable new new investors. Before moving forward you remember your investor friend advice that finding the investors by analysing the investment type. Since your friend startup is not in early phase it is in growth stage so the best-suited investment type is Private Equity. Find the top 5 investors who have invested in a different number of startups and their investment type is Private Equity. Correct spelling of investment types are - \"Private Equity\", \"Seed Funding\", \"Debt Funding\", and \"Crowd Funding\". Keep an eye for any spelling mistake. You can find this by printing unique values from this column.There are many errors in startup names. Ignore correcting all, just handle the important ones - Ola, Flipkart, Oyo and Paytm."
   ]
  },
  {
   "cell_type": "code",
   "execution_count": 4,
   "metadata": {},
   "outputs": [],
   "source": [
    "startup4 = pd.read_csv(\"startup_funding.csv\")\n",
    "\n",
    "startup4[\"AmountInUSD\"].fillna(\"0\", inplace = True)\n",
    "def num_1(value):\n",
    "    if value != \"\":\n",
    "        return int(float(value.replace(',', '')))\n",
    "\n",
    "startup4[\"AmountInUSD\"] = startup4[\"AmountInUSD\"].apply(num_1)\n",
    "\n",
    "# Correcting the investment typo errors\n",
    "startup4[\"InvestmentType\"].replace('SeedFunding', 'Seed Funding', inplace = True)\n",
    "startup4[\"InvestmentType\"].replace('PrivateEquity', 'Private Equity', inplace = True)\n",
    "startup4[\"InvestmentType\"].replace('Crowd funding', 'Crowd Funding', inplace = True)\n",
    "\n",
    "# Correcting the Startup names typo errors\n",
    "startup4[\"StartupName\"].replace(\"Ola Cabs\", \"Ola\", inplace = True)\n",
    "startup4[\"StartupName\"].replace(\"Olacabs\", \"Ola\", inplace = True)\n",
    "startup4[\"StartupName\"].replace(\"Paytm Marketplace\", \"Paytm\", inplace = True)\n",
    "startup4[\"StartupName\"].replace(\"Flipkart.com\", \"Flipkart\", inplace = True)\n",
    "startup4[\"StartupName\"].replace(\"Oyo Rooms\", \"Oyo\", inplace = True)\n",
    "startup4[\"StartupName\"].replace(\"Oyorooms\", \"Oyo\", inplace = True)\n",
    "startup4[\"StartupName\"].replace(\"OyoRooms\", \"Oyo\", inplace = True)\n",
    "startup4[\"StartupName\"].replace(\"OYO Rooms\", \"Oyo\", inplace = True)\n",
    "startup4[\"AmountInUSD\"].fillna(\"0\", inplace = True)\n",
    "\n",
    "# TAKING CARE OF THE NA VALUES:\n",
    "startup4.dropna(subset = [\"StartupName\", \"InvestorsName\", \"InvestmentType\"], inplace = True)\n",
    "startup4_copy = startup4.copy()\n",
    "\n",
    "#Limiting only to private equity\n",
    "Condition = (startup4_copy[\"InvestmentType\"] == \"Private Equity\")\n",
    "startup4_copy = startup4_copy[Condition]"
   ]
  },
  {
   "cell_type": "code",
   "execution_count": 5,
   "metadata": {},
   "outputs": [
    {
     "name": "stdout",
     "output_type": "stream",
     "text": [
      "Sequoia Capital 45\n",
      "Accel Partners 43\n",
      "Kalaari Capital 35\n",
      "Blume Ventures 27\n",
      "SAIF Partners 24\n"
     ]
    }
   ],
   "source": [
    "d = {}\n",
    "for i in startup4_copy.index:\n",
    "    investorName = startup4[\"InvestorsName\"][i].strip()\n",
    "    if \",\" in investorName:\n",
    "        arrName = investorName.strip().split(\",\")\n",
    "        for j in arrName:\n",
    "            if j.strip() in d:\n",
    "                d[j.strip()].add(startup4[\"StartupName\"][i].strip())\n",
    "            else:\n",
    "                s = set()\n",
    "                d[j.strip()] = s   \n",
    "                d[j.strip()].add(startup4[\"StartupName\"][i].strip())\n",
    "\n",
    "    else:\n",
    "        stripped = investorName.strip()\n",
    "        if stripped in d: \n",
    "            d[stripped].add((startup4[\"StartupName\"][i].strip()))\n",
    "        else:\n",
    "            s = set()\n",
    "            d[stripped] = s  \n",
    "            d[stripped].add(startup4[\"StartupName\"][i].strip())\n",
    "            \n",
    "d1 = {}\n",
    "for i in d:\n",
    "    if i == \"\":\n",
    "        continue\n",
    "    d1[i] = len(d[i])\n",
    "\n",
    "del d1[\"Undisclosed Investors\"]\n",
    "del d1[\"Undisclosed investors\"]\n",
    "\n",
    "d2 = sorted(d1, key = d1.get, reverse = True)\n",
    "\n",
    "for i in d2[:5]:\n",
    "    print(i, d1[i])"
   ]
  },
  {
   "cell_type": "markdown",
   "metadata": {},
   "source": [
    "##### Since his startup got invested now he want to expand his startup and need top 5 investors who can do investment as Private Equity."
   ]
  }
 ],
 "metadata": {
  "kernelspec": {
   "display_name": "Python 3",
   "language": "python",
   "name": "python3"
  },
  "language_info": {
   "codemirror_mode": {
    "name": "ipython",
    "version": 3
   },
   "file_extension": ".py",
   "mimetype": "text/x-python",
   "name": "python",
   "nbconvert_exporter": "python",
   "pygments_lexer": "ipython3",
   "version": "3.7.6"
  }
 },
 "nbformat": 4,
 "nbformat_minor": 4
}
