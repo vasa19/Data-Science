{
 "cells": [
  {
   "cell_type": "markdown",
   "metadata": {},
   "source": [
    "### Question 1: The dataset is highly skewed toward the cities included in Delhi-NCR. So, we will summarise all the other cities in Rest of India while those in New Delhi, Ghaziabad, Noida, Gurgaon, Faridabad to Delhi-NCR. Doing this would make our analysis turn toward Delhi-NCR v Rest of India."
   ]
  },
  {
   "cell_type": "markdown",
   "metadata": {},
   "source": [
    "#### 1.1: Plot the bar graph of number of restaurants present in Delhi NCR vs Rest of India."
   ]
  },
  {
   "cell_type": "markdown",
   "metadata": {},
   "source": [
    "To do so first we will import dataset and do data cleaning which is required."
   ]
  },
  {
   "cell_type": "code",
   "execution_count": 1,
   "metadata": {},
   "outputs": [
    {
     "data": {
      "text/html": [
       "<div>\n",
       "<style scoped>\n",
       "    .dataframe tbody tr th:only-of-type {\n",
       "        vertical-align: middle;\n",
       "    }\n",
       "\n",
       "    .dataframe tbody tr th {\n",
       "        vertical-align: top;\n",
       "    }\n",
       "\n",
       "    .dataframe thead th {\n",
       "        text-align: right;\n",
       "    }\n",
       "</style>\n",
       "<table border=\"1\" class=\"dataframe\">\n",
       "  <thead>\n",
       "    <tr style=\"text-align: right;\">\n",
       "      <th></th>\n",
       "      <th>Restaurant ID</th>\n",
       "      <th>Restaurant Name</th>\n",
       "      <th>Country Code</th>\n",
       "      <th>City</th>\n",
       "      <th>Address</th>\n",
       "      <th>Locality</th>\n",
       "      <th>Locality Verbose</th>\n",
       "      <th>Longitude</th>\n",
       "      <th>Latitude</th>\n",
       "      <th>Cuisines</th>\n",
       "      <th>...</th>\n",
       "      <th>Currency</th>\n",
       "      <th>Has Table booking</th>\n",
       "      <th>Has Online delivery</th>\n",
       "      <th>Is delivering now</th>\n",
       "      <th>Switch to order menu</th>\n",
       "      <th>Price range</th>\n",
       "      <th>Aggregate rating</th>\n",
       "      <th>Rating color</th>\n",
       "      <th>Rating text</th>\n",
       "      <th>Votes</th>\n",
       "    </tr>\n",
       "  </thead>\n",
       "  <tbody>\n",
       "    <tr>\n",
       "      <th>624</th>\n",
       "      <td>3400025</td>\n",
       "      <td>Jahanpanah</td>\n",
       "      <td>1</td>\n",
       "      <td>Agra</td>\n",
       "      <td>E 23, Shopping Arcade, Sadar Bazaar, Agra Cant...</td>\n",
       "      <td>Agra Cantt</td>\n",
       "      <td>Agra Cantt, Agra</td>\n",
       "      <td>78.011544</td>\n",
       "      <td>27.161661</td>\n",
       "      <td>North Indian, Mughlai</td>\n",
       "      <td>...</td>\n",
       "      <td>Indian Rupees(Rs.)</td>\n",
       "      <td>No</td>\n",
       "      <td>No</td>\n",
       "      <td>No</td>\n",
       "      <td>No</td>\n",
       "      <td>3</td>\n",
       "      <td>3.9</td>\n",
       "      <td>Yellow</td>\n",
       "      <td>Good</td>\n",
       "      <td>140</td>\n",
       "    </tr>\n",
       "    <tr>\n",
       "      <th>625</th>\n",
       "      <td>3400341</td>\n",
       "      <td>Rangrezz Restaurant</td>\n",
       "      <td>1</td>\n",
       "      <td>Agra</td>\n",
       "      <td>E-20, Shopping Arcade, Sadar Bazaar, Agra Cant...</td>\n",
       "      <td>Agra Cantt</td>\n",
       "      <td>Agra Cantt, Agra</td>\n",
       "      <td>0.000000</td>\n",
       "      <td>0.000000</td>\n",
       "      <td>North Indian, Mughlai</td>\n",
       "      <td>...</td>\n",
       "      <td>Indian Rupees(Rs.)</td>\n",
       "      <td>No</td>\n",
       "      <td>No</td>\n",
       "      <td>No</td>\n",
       "      <td>No</td>\n",
       "      <td>2</td>\n",
       "      <td>3.5</td>\n",
       "      <td>Yellow</td>\n",
       "      <td>Good</td>\n",
       "      <td>71</td>\n",
       "    </tr>\n",
       "    <tr>\n",
       "      <th>626</th>\n",
       "      <td>3400005</td>\n",
       "      <td>Time2Eat - Mama Chicken</td>\n",
       "      <td>1</td>\n",
       "      <td>Agra</td>\n",
       "      <td>Main Market, Sadar Bazaar, Agra Cantt, Agra</td>\n",
       "      <td>Agra Cantt</td>\n",
       "      <td>Agra Cantt, Agra</td>\n",
       "      <td>78.011608</td>\n",
       "      <td>27.160832</td>\n",
       "      <td>North Indian</td>\n",
       "      <td>...</td>\n",
       "      <td>Indian Rupees(Rs.)</td>\n",
       "      <td>No</td>\n",
       "      <td>No</td>\n",
       "      <td>No</td>\n",
       "      <td>No</td>\n",
       "      <td>2</td>\n",
       "      <td>3.6</td>\n",
       "      <td>Yellow</td>\n",
       "      <td>Good</td>\n",
       "      <td>94</td>\n",
       "    </tr>\n",
       "    <tr>\n",
       "      <th>627</th>\n",
       "      <td>3400021</td>\n",
       "      <td>Chokho Jeeman Marwari Jain Bhojanalya</td>\n",
       "      <td>1</td>\n",
       "      <td>Agra</td>\n",
       "      <td>1/48, Delhi Gate, Station Road, Raja Mandi, Ci...</td>\n",
       "      <td>Civil Lines</td>\n",
       "      <td>Civil Lines, Agra</td>\n",
       "      <td>77.998092</td>\n",
       "      <td>27.195928</td>\n",
       "      <td>Rajasthani</td>\n",
       "      <td>...</td>\n",
       "      <td>Indian Rupees(Rs.)</td>\n",
       "      <td>No</td>\n",
       "      <td>No</td>\n",
       "      <td>No</td>\n",
       "      <td>No</td>\n",
       "      <td>2</td>\n",
       "      <td>4.0</td>\n",
       "      <td>Green</td>\n",
       "      <td>Very Good</td>\n",
       "      <td>87</td>\n",
       "    </tr>\n",
       "    <tr>\n",
       "      <th>628</th>\n",
       "      <td>3400017</td>\n",
       "      <td>Pinch Of Spice</td>\n",
       "      <td>1</td>\n",
       "      <td>Agra</td>\n",
       "      <td>23/453, Opposite Sanjay Cinema, Wazipura Road,...</td>\n",
       "      <td>Civil Lines</td>\n",
       "      <td>Civil Lines, Agra</td>\n",
       "      <td>78.007553</td>\n",
       "      <td>27.201725</td>\n",
       "      <td>North Indian, Chinese, Mughlai</td>\n",
       "      <td>...</td>\n",
       "      <td>Indian Rupees(Rs.)</td>\n",
       "      <td>No</td>\n",
       "      <td>No</td>\n",
       "      <td>No</td>\n",
       "      <td>No</td>\n",
       "      <td>3</td>\n",
       "      <td>4.2</td>\n",
       "      <td>Green</td>\n",
       "      <td>Very Good</td>\n",
       "      <td>177</td>\n",
       "    </tr>\n",
       "    <tr>\n",
       "      <th>...</th>\n",
       "      <td>...</td>\n",
       "      <td>...</td>\n",
       "      <td>...</td>\n",
       "      <td>...</td>\n",
       "      <td>...</td>\n",
       "      <td>...</td>\n",
       "      <td>...</td>\n",
       "      <td>...</td>\n",
       "      <td>...</td>\n",
       "      <td>...</td>\n",
       "      <td>...</td>\n",
       "      <td>...</td>\n",
       "      <td>...</td>\n",
       "      <td>...</td>\n",
       "      <td>...</td>\n",
       "      <td>...</td>\n",
       "      <td>...</td>\n",
       "      <td>...</td>\n",
       "      <td>...</td>\n",
       "      <td>...</td>\n",
       "      <td>...</td>\n",
       "    </tr>\n",
       "    <tr>\n",
       "      <th>9271</th>\n",
       "      <td>2800100</td>\n",
       "      <td>D Cabana</td>\n",
       "      <td>1</td>\n",
       "      <td>Vizag</td>\n",
       "      <td>Beach Road, Near Bus Stop, Sagar Nagar, Visakh...</td>\n",
       "      <td>Sagar Nagar</td>\n",
       "      <td>Sagar Nagar, Vizag</td>\n",
       "      <td>83.361377</td>\n",
       "      <td>17.764287</td>\n",
       "      <td>Continental, Seafood, Chinese, North Indian, B...</td>\n",
       "      <td>...</td>\n",
       "      <td>Indian Rupees(Rs.)</td>\n",
       "      <td>No</td>\n",
       "      <td>No</td>\n",
       "      <td>No</td>\n",
       "      <td>No</td>\n",
       "      <td>2</td>\n",
       "      <td>3.6</td>\n",
       "      <td>Yellow</td>\n",
       "      <td>Good</td>\n",
       "      <td>193</td>\n",
       "    </tr>\n",
       "    <tr>\n",
       "      <th>9272</th>\n",
       "      <td>2800418</td>\n",
       "      <td>Kaloreez</td>\n",
       "      <td>1</td>\n",
       "      <td>Vizag</td>\n",
       "      <td>Plot 95, Opposite St. Lukes Nursing School, Da...</td>\n",
       "      <td>Siripuram</td>\n",
       "      <td>Siripuram, Vizag</td>\n",
       "      <td>0.000000</td>\n",
       "      <td>0.000000</td>\n",
       "      <td>Cafe, North Indian, Chinese</td>\n",
       "      <td>...</td>\n",
       "      <td>Indian Rupees(Rs.)</td>\n",
       "      <td>No</td>\n",
       "      <td>No</td>\n",
       "      <td>No</td>\n",
       "      <td>No</td>\n",
       "      <td>2</td>\n",
       "      <td>3.7</td>\n",
       "      <td>Yellow</td>\n",
       "      <td>Good</td>\n",
       "      <td>85</td>\n",
       "    </tr>\n",
       "    <tr>\n",
       "      <th>9273</th>\n",
       "      <td>2800881</td>\n",
       "      <td>Plot 17</td>\n",
       "      <td>1</td>\n",
       "      <td>Vizag</td>\n",
       "      <td>Plot 17, Gangapur Layout, Siripuram, Vizag</td>\n",
       "      <td>Siripuram</td>\n",
       "      <td>Siripuram, Vizag</td>\n",
       "      <td>83.315281</td>\n",
       "      <td>17.719539</td>\n",
       "      <td>Burger, Pizza, Biryani</td>\n",
       "      <td>...</td>\n",
       "      <td>Indian Rupees(Rs.)</td>\n",
       "      <td>No</td>\n",
       "      <td>No</td>\n",
       "      <td>No</td>\n",
       "      <td>No</td>\n",
       "      <td>2</td>\n",
       "      <td>4.3</td>\n",
       "      <td>Green</td>\n",
       "      <td>Very Good</td>\n",
       "      <td>172</td>\n",
       "    </tr>\n",
       "    <tr>\n",
       "      <th>9274</th>\n",
       "      <td>2800042</td>\n",
       "      <td>Vista - The Park</td>\n",
       "      <td>1</td>\n",
       "      <td>Vizag</td>\n",
       "      <td>The Park, Beach Road, Pedda Waltair, Lawsons B...</td>\n",
       "      <td>The Park, Lawsons Bay</td>\n",
       "      <td>The Park, Lawsons Bay, Vizag</td>\n",
       "      <td>83.336840</td>\n",
       "      <td>17.721182</td>\n",
       "      <td>American, North Indian, Thai, Continental</td>\n",
       "      <td>...</td>\n",
       "      <td>Indian Rupees(Rs.)</td>\n",
       "      <td>No</td>\n",
       "      <td>No</td>\n",
       "      <td>No</td>\n",
       "      <td>No</td>\n",
       "      <td>4</td>\n",
       "      <td>3.8</td>\n",
       "      <td>Yellow</td>\n",
       "      <td>Good</td>\n",
       "      <td>74</td>\n",
       "    </tr>\n",
       "    <tr>\n",
       "      <th>9275</th>\n",
       "      <td>2800019</td>\n",
       "      <td>Flying Spaghetti Monster</td>\n",
       "      <td>1</td>\n",
       "      <td>Vizag</td>\n",
       "      <td>10-50-12/F2, Sai Dakshata Complex, Beside Leno...</td>\n",
       "      <td>Waltair Uplands</td>\n",
       "      <td>Waltair Uplands, Vizag</td>\n",
       "      <td>83.314942</td>\n",
       "      <td>17.721119</td>\n",
       "      <td>Italian</td>\n",
       "      <td>...</td>\n",
       "      <td>Indian Rupees(Rs.)</td>\n",
       "      <td>No</td>\n",
       "      <td>No</td>\n",
       "      <td>No</td>\n",
       "      <td>No</td>\n",
       "      <td>3</td>\n",
       "      <td>4.4</td>\n",
       "      <td>Green</td>\n",
       "      <td>Very Good</td>\n",
       "      <td>316</td>\n",
       "    </tr>\n",
       "  </tbody>\n",
       "</table>\n",
       "<p>8652 rows × 21 columns</p>\n",
       "</div>"
      ],
      "text/plain": [
       "      Restaurant ID                        Restaurant Name  Country Code  \\\n",
       "624         3400025                             Jahanpanah             1   \n",
       "625         3400341                    Rangrezz Restaurant             1   \n",
       "626         3400005                Time2Eat - Mama Chicken             1   \n",
       "627         3400021  Chokho Jeeman Marwari Jain Bhojanalya             1   \n",
       "628         3400017                         Pinch Of Spice             1   \n",
       "...             ...                                    ...           ...   \n",
       "9271        2800100                               D Cabana             1   \n",
       "9272        2800418                               Kaloreez             1   \n",
       "9273        2800881                                Plot 17             1   \n",
       "9274        2800042                       Vista - The Park             1   \n",
       "9275        2800019               Flying Spaghetti Monster             1   \n",
       "\n",
       "       City                                            Address  \\\n",
       "624    Agra  E 23, Shopping Arcade, Sadar Bazaar, Agra Cant...   \n",
       "625    Agra  E-20, Shopping Arcade, Sadar Bazaar, Agra Cant...   \n",
       "626    Agra        Main Market, Sadar Bazaar, Agra Cantt, Agra   \n",
       "627    Agra  1/48, Delhi Gate, Station Road, Raja Mandi, Ci...   \n",
       "628    Agra  23/453, Opposite Sanjay Cinema, Wazipura Road,...   \n",
       "...     ...                                                ...   \n",
       "9271  Vizag  Beach Road, Near Bus Stop, Sagar Nagar, Visakh...   \n",
       "9272  Vizag  Plot 95, Opposite St. Lukes Nursing School, Da...   \n",
       "9273  Vizag         Plot 17, Gangapur Layout, Siripuram, Vizag   \n",
       "9274  Vizag  The Park, Beach Road, Pedda Waltair, Lawsons B...   \n",
       "9275  Vizag  10-50-12/F2, Sai Dakshata Complex, Beside Leno...   \n",
       "\n",
       "                   Locality              Locality Verbose  Longitude  \\\n",
       "624              Agra Cantt              Agra Cantt, Agra  78.011544   \n",
       "625              Agra Cantt              Agra Cantt, Agra   0.000000   \n",
       "626              Agra Cantt              Agra Cantt, Agra  78.011608   \n",
       "627             Civil Lines             Civil Lines, Agra  77.998092   \n",
       "628             Civil Lines             Civil Lines, Agra  78.007553   \n",
       "...                     ...                           ...        ...   \n",
       "9271            Sagar Nagar            Sagar Nagar, Vizag  83.361377   \n",
       "9272              Siripuram              Siripuram, Vizag   0.000000   \n",
       "9273              Siripuram              Siripuram, Vizag  83.315281   \n",
       "9274  The Park, Lawsons Bay  The Park, Lawsons Bay, Vizag  83.336840   \n",
       "9275        Waltair Uplands        Waltair Uplands, Vizag  83.314942   \n",
       "\n",
       "       Latitude                                           Cuisines  ...  \\\n",
       "624   27.161661                              North Indian, Mughlai  ...   \n",
       "625    0.000000                              North Indian, Mughlai  ...   \n",
       "626   27.160832                                       North Indian  ...   \n",
       "627   27.195928                                         Rajasthani  ...   \n",
       "628   27.201725                     North Indian, Chinese, Mughlai  ...   \n",
       "...         ...                                                ...  ...   \n",
       "9271  17.764287  Continental, Seafood, Chinese, North Indian, B...  ...   \n",
       "9272   0.000000                        Cafe, North Indian, Chinese  ...   \n",
       "9273  17.719539                             Burger, Pizza, Biryani  ...   \n",
       "9274  17.721182          American, North Indian, Thai, Continental  ...   \n",
       "9275  17.721119                                            Italian  ...   \n",
       "\n",
       "                Currency Has Table booking Has Online delivery  \\\n",
       "624   Indian Rupees(Rs.)                No                  No   \n",
       "625   Indian Rupees(Rs.)                No                  No   \n",
       "626   Indian Rupees(Rs.)                No                  No   \n",
       "627   Indian Rupees(Rs.)                No                  No   \n",
       "628   Indian Rupees(Rs.)                No                  No   \n",
       "...                  ...               ...                 ...   \n",
       "9271  Indian Rupees(Rs.)                No                  No   \n",
       "9272  Indian Rupees(Rs.)                No                  No   \n",
       "9273  Indian Rupees(Rs.)                No                  No   \n",
       "9274  Indian Rupees(Rs.)                No                  No   \n",
       "9275  Indian Rupees(Rs.)                No                  No   \n",
       "\n",
       "     Is delivering now Switch to order menu Price range  Aggregate rating  \\\n",
       "624                 No                   No           3               3.9   \n",
       "625                 No                   No           2               3.5   \n",
       "626                 No                   No           2               3.6   \n",
       "627                 No                   No           2               4.0   \n",
       "628                 No                   No           3               4.2   \n",
       "...                ...                  ...         ...               ...   \n",
       "9271                No                   No           2               3.6   \n",
       "9272                No                   No           2               3.7   \n",
       "9273                No                   No           2               4.3   \n",
       "9274                No                   No           4               3.8   \n",
       "9275                No                   No           3               4.4   \n",
       "\n",
       "      Rating color Rating text Votes  \n",
       "624         Yellow        Good   140  \n",
       "625         Yellow        Good    71  \n",
       "626         Yellow        Good    94  \n",
       "627          Green   Very Good    87  \n",
       "628          Green   Very Good   177  \n",
       "...            ...         ...   ...  \n",
       "9271        Yellow        Good   193  \n",
       "9272        Yellow        Good    85  \n",
       "9273         Green   Very Good   172  \n",
       "9274        Yellow        Good    74  \n",
       "9275         Green   Very Good   316  \n",
       "\n",
       "[8652 rows x 21 columns]"
      ]
     },
     "execution_count": 1,
     "metadata": {},
     "output_type": "execute_result"
    }
   ],
   "source": [
    "import pandas as pd\n",
    "import numpy as np\n",
    "\n",
    "df = pd.read_csv('zomato.csv', encoding = 'ISO-8859-1')\n",
    "\n",
    "# Countries other than India are rejected\n",
    "df = df[df['Country Code'] == 1]\n",
    "\n",
    "# Specified cities are replaced by Delhi NCR for further analysis\n",
    "df['City'].replace(to_replace = [\"New Delhi\", \"Ghaziabad\", \"Noida\", \"Gurgaon\", \"Faridabad\"], value = \"Delhi NCR\", inplace = True) \n",
    "df"
   ]
  },
  {
   "cell_type": "code",
   "execution_count": 15,
   "metadata": {},
   "outputs": [
    {
     "name": "stdout",
     "output_type": "stream",
     "text": [
      "Total Restaurants 8652\n",
      "Total restaurants in Delhi NCR 7947\n",
      "Total restaurants in Rest of India 705\n"
     ]
    },
    {
     "data": {
      "image/png": "[encoded data removed]",
      "text/plain": [
       "<Figure size 432x288 with 1 Axes>"
      ]
     },
     "metadata": {
      "needs_background": "light"
     },
     "output_type": "display_data"
    }
   ],
   "source": [
    "print('Total Restaurants', df.City.count())\n",
    "\n",
    "# No of restaurants in Delhi NCR\n",
    "print('Total restaurants in Delhi NCR', df[df.City == 'Delhi NCR'].City.count())\n",
    "\n",
    "# No of restaurants in rest of India\n",
    "print('Total restaurants in Rest of India', df[df.City != 'Delhi NCR'].City.count())\n",
    "\n",
    "import matplotlib.pyplot as plt\n",
    "%matplotlib inline\n",
    "\n",
    "# Plotting of graph\n",
    "plt.bar(['Delhi NCR', 'Rest of India'], [7947,705])\n",
    "plt.ylabel(\"No. of restraunts\")\n",
    "plt.show()"
   ]
  },
  {
   "cell_type": "markdown",
   "metadata": {},
   "source": [
    "#### 1.2: Find the cuisines which are not present in restaurant of Delhi NCR but present in rest of India.Check using Zomato API whether this cuisines are actually not served in restaurants of Delhi-NCR or just it due to incomplete dataset."
   ]
  },
  {
   "cell_type": "code",
   "execution_count": 18,
   "metadata": {},
   "outputs": [
    {
     "name": "stdout",
     "output_type": "stream",
     "text": [
      "Set of cuisines served in rest of India but not in delhi NCR {'Cajun', 'BBQ', 'Malwani', 'German'}\n",
      "Cajun False\n",
      "BBQ True\n",
      "Malwani True\n",
      "German False\n"
     ]
    }
   ],
   "source": [
    "# Set of cuisines served in restaurants in delhi ncr\n",
    "d1 = df[df['City']=='Delhi NCR']['Cuisines'].str.split(', ')\n",
    "set1 = set().union(*d1)\n",
    "\n",
    "# Set of cuisines served in restaurants in rest of India\n",
    "d2 = df[df['City'] !='Delhi NCR']['Cuisines'].str.split(', ')\n",
    "set2 = set().union(*d2)\n",
    "\n",
    "# Set of cuisines served in rest of India but not in delhi is printed\n",
    "print('Set of cuisines served in rest of India but not in delhi NCR', end = ' ')\n",
    "print(set2 - set1)\n",
    "\n",
    "import requests\n",
    "\n",
    "# A request is made to zomato API and a new_set of cuisines is created for Delhi NCR (city id = 1)\n",
    "h = {'user-key' : '6b6a3e454cd129f0b05ae29da66c5f9a'}\n",
    "p = {'city_id' : 1}\n",
    "\n",
    "r = requests.get('https://developers.zomato.com/api/v2.1/cuisines?city_id=1', headers = h, params = p)\n",
    "\n",
    "new_set = set([]) \n",
    "\n",
    "for i in r.json()['cuisines']:\n",
    "    new_set.add(i['cuisine']['cuisine_name']) \n",
    "\n",
    "# The set of elements printed in line 7 are checked for presense in new_set. If true, then incomplete dataset,\n",
    "# if false then cuisine is actually not served in delhi ncr\n",
    "for i in set2 - set1:\n",
    "    print(i, i in new_set)"
   ]
  },
  {
   "cell_type": "markdown",
   "metadata": {},
   "source": [
    "#### 1.3: Find the top 10 cuisines served by maximum number of restaurants in Delhi NCR and rest of India."
   ]
  },
  {
   "cell_type": "markdown",
   "metadata": {},
   "source": [
    "For Delhi NCR"
   ]
  },
  {
   "cell_type": "code",
   "execution_count": 20,
   "metadata": {},
   "outputs": [
    {
     "name": "stdout",
     "output_type": "stream",
     "text": [
      "North Indian 3597\n",
      "Chinese 2448\n",
      "Fast Food 1866\n",
      "Mughlai 933\n",
      "Bakery 697\n",
      "South Indian 569\n",
      "Continental 547\n",
      "Desserts 542\n",
      "Street Food 538\n",
      "Italian 535\n"
     ]
    },
    {
     "data": {
      "image/png": "[encoded data removed]",
      "text/plain": [
       "<Figure size 432x288 with 1 Axes>"
      ]
     },
     "metadata": {
      "needs_background": "light"
     },
     "output_type": "display_data"
    }
   ],
   "source": [
    "# A dictionary is created for cuisines served in Delhi NCR.\n",
    "# Key = cuisine, Value = No. of restaurants that serve that cuisine\n",
    "df1 = pd.DataFrame(d1) # d1 is defined in previous block\n",
    "dic1 = {}\n",
    "for index, row in df1.iterrows():\n",
    "    for i in row['Cuisines']:\n",
    "        dic1[i] = dic1.get(i,0) + 1\n",
    "\n",
    "# arrays x and y are populated to plot graph\n",
    "count = 0   \n",
    "x = []\n",
    "y = []\n",
    "for w in sorted(dic1, key = dic1.get, reverse = True):\n",
    "    x.append(w)\n",
    "    y.append(dic1[w])\n",
    "    print (w, dic1[w])\n",
    "    count += 1\n",
    "    if count == 10:\n",
    "        break\n",
    "\n",
    "# To plot required graph\n",
    "plt.bar(x, y, align = 'center')\n",
    "plt.xticks(range(len(x)), list(x), rotation = 30)\n",
    "plt.show()"
   ]
  },
  {
   "cell_type": "markdown",
   "metadata": {},
   "source": [
    "For Rest of India"
   ]
  },
  {
   "cell_type": "code",
   "execution_count": 21,
   "metadata": {
    "scrolled": true
   },
   "outputs": [
    {
     "name": "stdout",
     "output_type": "stream",
     "text": [
      "North Indian 349\n",
      "Chinese 242\n",
      "Continental 177\n",
      "Italian 147\n",
      "Cafe 136\n",
      "Fast Food 97\n",
      "South Indian 62\n",
      "Mughlai 59\n",
      "Desserts 55\n",
      "Mexican 50\n"
     ]
    },
    {
     "data": {
      "image/png": "[encoded data removed]",
      "text/plain": [
       "<Figure size 432x288 with 1 Axes>"
      ]
     },
     "metadata": {
      "needs_background": "light"
     },
     "output_type": "display_data"
    }
   ],
   "source": [
    "# Same as before\n",
    "df2 = pd.DataFrame(d2)\n",
    "dic2 = {}\n",
    "for index, row in df2.iterrows():\n",
    "    for i in row['Cuisines']:\n",
    "        dic2[i] = dic2.get(i,0) + 1\n",
    "count = 0   \n",
    "x = []\n",
    "y = []\n",
    "for w in sorted(dic2, key = dic2.get, reverse=True):\n",
    "    x.append(w)\n",
    "    y.append(dic2[w])\n",
    "    print (w, dic2[w])\n",
    "    count += 1\n",
    "    if count == 10:\n",
    "        break\n",
    "        \n",
    "plt.bar(x, y, align = 'center')\n",
    "plt.xticks(range(len(x)), list(x), rotation = 30)\n",
    "plt.show()"
   ]
  },
  {
   "cell_type": "markdown",
   "metadata": {},
   "source": [
    "#### 1.4: Write a short detailed analysis of how cuisine served is different from Delhi NCR to Rest of India. Plot the suitable graph to explain your inference."
   ]
  },
  {
   "cell_type": "markdown",
   "metadata": {},
   "source": [
    "1. North Indian and Chinese cusines are served the most, both in Delhi NCR and Rest of India\n",
    "2. After that, fast food and mughlai is more popular in Delhi NCR while continental and Italian restaurants in Rest of the India\n",
    "3. Overall number of restaurants registered with Zomato is much more in Delhi NCR than in Rest of India.\n",
    "4. Previous 2 graphs are depicting these trends well"
   ]
  },
  {
   "cell_type": "markdown",
   "metadata": {},
   "source": [
    "### Question 2: User Rating of a restaurant plays a crucial role in selecting a restaurant or ordering the food from the restaurant."
   ]
  },
  {
   "cell_type": "markdown",
   "metadata": {},
   "source": [
    "#### 2.1: Write a short detail analysis of how the rating is affected by restaurant due following features: Plot a suitable graph to explain your inference."
   ]
  },
  {
   "cell_type": "markdown",
   "metadata": {},
   "source": [
    "##### 2.1.1: Number of Votes given Restaurant"
   ]
  },
  {
   "cell_type": "code",
   "execution_count": 13,
   "metadata": {},
   "outputs": [
    {
     "data": {
      "text/plain": [
       "<matplotlib.axes._subplots.AxesSubplot at 0x7f983d18a090>"
      ]
     },
     "execution_count": 13,
     "metadata": {},
     "output_type": "execute_result"
    },
    {
     "data": {
      "image/png": "[encoded data removed]",
      "text/plain": [
       "<Figure size 504x504 with 1 Axes>"
      ]
     },
     "metadata": {
      "needs_background": "light"
     },
     "output_type": "display_data"
    }
   ],
   "source": [
    "import numpy as np\n",
    "\n",
    "df = pd.read_csv('zomato.csv', encoding = 'ISO-8859-1')\n",
    "df = df[df['Country Code'] == 1]\n",
    "df1 = df[['Aggregate rating','Votes']]\n",
    "df1 = df1.sort_values(['Votes'], ascending=[True])\n",
    "df1\n",
    "\n",
    "import matplotlib.pyplot as plt\n",
    "%matplotlib inline\n",
    "\n",
    "df1.plot(x='Votes', y='Aggregate rating', kind = 'scatter', figsize = (7,7))"
   ]
  },
  {
   "cell_type": "markdown",
   "metadata": {},
   "source": [
    "For votes < 2000 No particular trend can be seen.\n",
    "\n",
    "For votes > 4000 Ratings go up as number of votes increase (maybe because restaurant is good that's why more     people are visiting the restaurant)"
   ]
  },
  {
   "cell_type": "markdown",
   "metadata": {},
   "source": [
    "##### 2.1.2: Restaurant serving more number of cuisines."
   ]
  },
  {
   "cell_type": "code",
   "execution_count": 14,
   "metadata": {},
   "outputs": [
    {
     "data": {
      "text/plain": [
       "<matplotlib.axes._subplots.AxesSubplot at 0x7f983afe2cd0>"
      ]
     },
     "execution_count": 14,
     "metadata": {},
     "output_type": "execute_result"
    },
    {
     "data": {
      "image/png": "[encoded data removed]",
      "text/plain": [
       "<Figure size 504x504 with 1 Axes>"
      ]
     },
     "metadata": {
      "needs_background": "light"
     },
     "output_type": "display_data"
    }
   ],
   "source": [
    "df_India = df[df['Country Code']==1]\n",
    "df2 = df_India[['Average Cost for two','Aggregate rating']]\n",
    "df2.plot(x='Average Cost for two', y='Aggregate rating', kind = 'scatter', figsize = (7,7))"
   ]
  },
  {
   "cell_type": "markdown",
   "metadata": {},
   "source": [
    "Only Indian restaurants are considered because different currencies in different countries.\n",
    "\n",
    "No trend can be seen for cost < 3000\n",
    "\n",
    "For cost > 3000, rating is > 3"
   ]
  },
  {
   "cell_type": "markdown",
   "metadata": {},
   "source": [
    "##### 2.1.3: Average Cost of Restaurant"
   ]
  },
  {
   "cell_type": "code",
   "execution_count": 10,
   "metadata": {},
   "outputs": [
    {
     "data": {
      "text/plain": [
       "<matplotlib.axes._subplots.AxesSubplot at 0x7f983e037b90>"
      ]
     },
     "execution_count": 10,
     "metadata": {},
     "output_type": "execute_result"
    },
    {
     "data": {
      "image/png": "[encoded data removed]",
      "text/plain": [
       "<Figure size 504x504 with 1 Axes>"
      ]
     },
     "metadata": {
      "needs_background": "light"
     },
     "output_type": "display_data"
    }
   ],
   "source": [
    "df3 = df[['Cuisines', 'Aggregate rating']]\n",
    "df3 = df3[df3['Cuisines'].notnull()]\n",
    "\n",
    "def f(a):\n",
    "    if a is np.nan :\n",
    "        return 0\n",
    "    s = a.split(',')\n",
    "    return len(s)\n",
    "\n",
    "df3['Cuisines'] = df3['Cuisines'].apply(lambda x: f(x))\n",
    "df3.plot(x = 'Cuisines', y = 'Aggregate rating', kind = 'scatter', figsize = (7, 7))"
   ]
  },
  {
   "cell_type": "markdown",
   "metadata": {},
   "source": [
    "No trend whatsoever"
   ]
  },
  {
   "cell_type": "markdown",
   "metadata": {},
   "source": [
    "##### 2.1.4: Restaurant serving some specific cuisines."
   ]
  },
  {
   "cell_type": "code",
   "execution_count": 11,
   "metadata": {},
   "outputs": [
    {
     "data": {
      "text/html": [
       "<div>\n",
       "<style scoped>\n",
       "    .dataframe tbody tr th:only-of-type {\n",
       "        vertical-align: middle;\n",
       "    }\n",
       "\n",
       "    .dataframe tbody tr th {\n",
       "        vertical-align: top;\n",
       "    }\n",
       "\n",
       "    .dataframe thead th {\n",
       "        text-align: right;\n",
       "    }\n",
       "</style>\n",
       "<table border=\"1\" class=\"dataframe\">\n",
       "  <thead>\n",
       "    <tr style=\"text-align: right;\">\n",
       "      <th></th>\n",
       "      <th>cuisine</th>\n",
       "      <th>count</th>\n",
       "      <th>mean</th>\n",
       "    </tr>\n",
       "  </thead>\n",
       "  <tbody>\n",
       "    <tr>\n",
       "      <th>209</th>\n",
       "      <td>North Indian</td>\n",
       "      <td>2992</td>\n",
       "      <td>2.399699</td>\n",
       "    </tr>\n",
       "    <tr>\n",
       "      <th>33</th>\n",
       "      <td>Chinese</td>\n",
       "      <td>1880</td>\n",
       "      <td>2.755319</td>\n",
       "    </tr>\n",
       "    <tr>\n",
       "      <th>46</th>\n",
       "      <td>Fast Food</td>\n",
       "      <td>1314</td>\n",
       "      <td>2.671537</td>\n",
       "    </tr>\n",
       "    <tr>\n",
       "      <th>92</th>\n",
       "      <td>North Indian</td>\n",
       "      <td>968</td>\n",
       "      <td>2.852789</td>\n",
       "    </tr>\n",
       "    <tr>\n",
       "      <th>157</th>\n",
       "      <td>Chinese</td>\n",
       "      <td>855</td>\n",
       "      <td>2.325731</td>\n",
       "    </tr>\n",
       "    <tr>\n",
       "      <th>...</th>\n",
       "      <td>...</td>\n",
       "      <td>...</td>\n",
       "      <td>...</td>\n",
       "    </tr>\n",
       "    <tr>\n",
       "      <th>221</th>\n",
       "      <td>Ramen</td>\n",
       "      <td>1</td>\n",
       "      <td>4.600000</td>\n",
       "    </tr>\n",
       "    <tr>\n",
       "      <th>162</th>\n",
       "      <td>Cuisine Varies</td>\n",
       "      <td>1</td>\n",
       "      <td>0.000000</td>\n",
       "    </tr>\n",
       "    <tr>\n",
       "      <th>161</th>\n",
       "      <td>Cuban</td>\n",
       "      <td>1</td>\n",
       "      <td>4.400000</td>\n",
       "    </tr>\n",
       "    <tr>\n",
       "      <th>83</th>\n",
       "      <td>Mineira</td>\n",
       "      <td>1</td>\n",
       "      <td>0.000000</td>\n",
       "    </tr>\n",
       "    <tr>\n",
       "      <th>44</th>\n",
       "      <td>Dí_ner</td>\n",
       "      <td>1</td>\n",
       "      <td>4.400000</td>\n",
       "    </tr>\n",
       "  </tbody>\n",
       "</table>\n",
       "<p>249 rows × 3 columns</p>\n",
       "</div>"
      ],
      "text/plain": [
       "            cuisine  count      mean\n",
       "209    North Indian   2992  2.399699\n",
       "33          Chinese   1880  2.755319\n",
       "46        Fast Food   1314  2.671537\n",
       "92     North Indian    968  2.852789\n",
       "157         Chinese    855  2.325731\n",
       "..              ...    ...       ...\n",
       "221           Ramen      1  4.600000\n",
       "162  Cuisine Varies      1  0.000000\n",
       "161           Cuban      1  4.400000\n",
       "83          Mineira      1  0.000000\n",
       "44           Dí_ner      1  4.400000\n",
       "\n",
       "[249 rows x 3 columns]"
      ]
     },
     "execution_count": 11,
     "metadata": {},
     "output_type": "execute_result"
    }
   ],
   "source": [
    "df4 = df[['Cuisines', 'Aggregate rating']]\n",
    "df4 = df4[df4['Cuisines'].notnull()]\n",
    "\n",
    "\n",
    "def f(a):\n",
    "    s = a.split(',')\n",
    "    return s\n",
    "\n",
    "df4['Cuisines'] = df4['Cuisines'].apply(lambda x: f(x))\n",
    "\n",
    "df4.reset_index(inplace = True)\n",
    "rows = []\n",
    "_ = df4.apply(lambda row: [rows.append([row['Aggregate rating'], nn])for nn in row.Cuisines], axis = 1)\n",
    "df_new = pd.DataFrame(rows, columns = ['rating', 'cuisine'])\n",
    "\n",
    "\n",
    "dfx = (df_new.groupby('cuisine')['rating'].agg(('count', 'mean')).reset_index())\n",
    "dfx = dfx.sort_values(['count'], ascending = [False])\n",
    "\n",
    "dfx"
   ]
  },
  {
   "cell_type": "markdown",
   "metadata": {},
   "source": [
    "Number of cuisines are too many to plot, hence only dataframe is shown"
   ]
  },
  {
   "cell_type": "markdown",
   "metadata": {},
   "source": [
    "Each cuisine has very different number of restaurants which serve that cuisine\n",
    "therefore, more popular cuisines actually have very less average rating\n",
    "hence no conclusions can be made"
   ]
  },
  {
   "cell_type": "markdown",
   "metadata": {},
   "source": [
    "#### 2.2: Find the weighted restaurant rating of each locality and find out the top 10 localities with more weighted restaurant rating?"
   ]
  },
  {
   "cell_type": "markdown",
   "metadata": {},
   "source": [
    "##### Weighted Restaurant Rating=Σ (number of votes * rating) / Σ (number of votes) ."
   ]
  },
  {
   "cell_type": "code",
   "execution_count": 12,
   "metadata": {
    "scrolled": true
   },
   "outputs": [
    {
     "data": {
      "text/html": [
       "<div>\n",
       "<style scoped>\n",
       "    .dataframe tbody tr th:only-of-type {\n",
       "        vertical-align: middle;\n",
       "    }\n",
       "\n",
       "    .dataframe tbody tr th {\n",
       "        vertical-align: top;\n",
       "    }\n",
       "\n",
       "    .dataframe thead th {\n",
       "        text-align: right;\n",
       "    }\n",
       "</style>\n",
       "<table border=\"1\" class=\"dataframe\">\n",
       "  <thead>\n",
       "    <tr style=\"text-align: right;\">\n",
       "      <th></th>\n",
       "      <th>Votes</th>\n",
       "      <th>prod</th>\n",
       "      <th>w_rating</th>\n",
       "    </tr>\n",
       "    <tr>\n",
       "      <th>Locality</th>\n",
       "      <th></th>\n",
       "      <th></th>\n",
       "      <th></th>\n",
       "    </tr>\n",
       "  </thead>\n",
       "  <tbody>\n",
       "    <tr>\n",
       "      <th>Penjaringan</th>\n",
       "      <td>605</td>\n",
       "      <td>2964.5</td>\n",
       "      <td>4.9</td>\n",
       "    </tr>\n",
       "    <tr>\n",
       "      <th>Aminabad</th>\n",
       "      <td>1057</td>\n",
       "      <td>5179.3</td>\n",
       "      <td>4.9</td>\n",
       "    </tr>\n",
       "    <tr>\n",
       "      <th>Cengkareng</th>\n",
       "      <td>1662</td>\n",
       "      <td>8143.8</td>\n",
       "      <td>4.9</td>\n",
       "    </tr>\n",
       "    <tr>\n",
       "      <th>Barwa Towers, Al Sadd</th>\n",
       "      <td>182</td>\n",
       "      <td>891.8</td>\n",
       "      <td>4.9</td>\n",
       "    </tr>\n",
       "    <tr>\n",
       "      <th>Kenwood</th>\n",
       "      <td>1424</td>\n",
       "      <td>6977.6</td>\n",
       "      <td>4.9</td>\n",
       "    </tr>\n",
       "    <tr>\n",
       "      <th>Hotel Clarks Amer, Malviya Nagar</th>\n",
       "      <td>322</td>\n",
       "      <td>1577.8</td>\n",
       "      <td>4.9</td>\n",
       "    </tr>\n",
       "    <tr>\n",
       "      <th>Venetian Village, Al Maqtaa</th>\n",
       "      <td>216</td>\n",
       "      <td>1058.4</td>\n",
       "      <td>4.9</td>\n",
       "    </tr>\n",
       "    <tr>\n",
       "      <th>Setor De Clubes Esportivos Sul</th>\n",
       "      <td>30</td>\n",
       "      <td>147.0</td>\n",
       "      <td>4.9</td>\n",
       "    </tr>\n",
       "    <tr>\n",
       "      <th>Caddebostan</th>\n",
       "      <td>522</td>\n",
       "      <td>2557.8</td>\n",
       "      <td>4.9</td>\n",
       "    </tr>\n",
       "    <tr>\n",
       "      <th>New Tampa</th>\n",
       "      <td>1413</td>\n",
       "      <td>6923.7</td>\n",
       "      <td>4.9</td>\n",
       "    </tr>\n",
       "  </tbody>\n",
       "</table>\n",
       "</div>"
      ],
      "text/plain": [
       "                                  Votes    prod  w_rating\n",
       "Locality                                                 \n",
       "Penjaringan                         605  2964.5       4.9\n",
       "Aminabad                           1057  5179.3       4.9\n",
       "Cengkareng                         1662  8143.8       4.9\n",
       "Barwa Towers, Al Sadd               182   891.8       4.9\n",
       "Kenwood                            1424  6977.6       4.9\n",
       "Hotel Clarks Amer, Malviya Nagar    322  1577.8       4.9\n",
       "Venetian Village, Al Maqtaa         216  1058.4       4.9\n",
       "Setor De Clubes Esportivos Sul       30   147.0       4.9\n",
       "Caddebostan                         522  2557.8       4.9\n",
       "New Tampa                          1413  6923.7       4.9"
      ]
     },
     "execution_count": 12,
     "metadata": {},
     "output_type": "execute_result"
    }
   ],
   "source": [
    "# A new column 'prod' is created which is the product of rating into votes\n",
    "df['prod'] = df['Aggregate rating'] * df['Votes']\n",
    "\n",
    "# data is grouped by locality and sum of votes and prod for each locality is calculated, the result is stored in 'a'\n",
    "a = df.groupby(\"Locality\").sum()\n",
    "a = a[['Votes','prod']]\n",
    "\n",
    "# A new column w_rating is created which is a['prod'] / a['Votes']\n",
    "a['w_rating'] = a['prod']/a['Votes']\n",
    "\n",
    "# Localities are listed in a decreasing order of weighted rating\n",
    "a = a.sort_values(['w_rating'], ascending=[False])\n",
    "a.head(10)"
   ]
  },
  {
   "cell_type": "markdown",
   "metadata": {},
   "source": [
    "### Question 3: Visualization"
   ]
  },
  {
   "cell_type": "markdown",
   "metadata": {},
   "source": [
    "#### 3.1: Plot the bar graph for top 15 restaurants have a maximum number of outlets."
   ]
  },
  {
   "cell_type": "code",
   "execution_count": 26,
   "metadata": {},
   "outputs": [
    {
     "data": {
      "text/plain": [
       "<matplotlib.axes._subplots.AxesSubplot at 0x7f7f0f92af90>"
      ]
     },
     "execution_count": 26,
     "metadata": {},
     "output_type": "execute_result"
    },
    {
     "data": {
      "image/png": "[encoded data removed]",
      "text/plain": [
       "<Figure size 432x288 with 1 Axes>"
      ]
     },
     "metadata": {
      "needs_background": "light"
     },
     "output_type": "display_data"
    }
   ],
   "source": [
    "import pandas as pd\n",
    "import numpy as np\n",
    "import matplotlib.pyplot as plt\n",
    "%matplotlib inline\n",
    "\n",
    "df = pd.read_csv('zomato.csv', encoding = 'ISO-8859-1')\n",
    "\n",
    "df['Restaurant Name'].value_counts().head(15).plot(kind='bar')"
   ]
  },
  {
   "cell_type": "markdown",
   "metadata": {},
   "source": [
    "#### 3.2: Plot the histogram of aggregate rating of restaurant( drop the unrated restaurant)."
   ]
  },
  {
   "cell_type": "code",
   "execution_count": 27,
   "metadata": {},
   "outputs": [
    {
     "data": {
      "text/plain": [
       "array([[<matplotlib.axes._subplots.AxesSubplot object at 0x7f7f0c2db250>]],\n",
       "      dtype=object)"
      ]
     },
     "execution_count": 27,
     "metadata": {},
     "output_type": "execute_result"
    },
    {
     "data": {
      "image/png": "[encoded data removed]",
      "text/plain": [
       "<Figure size 432x288 with 1 Axes>"
      ]
     },
     "metadata": {
      "needs_background": "light"
     },
     "output_type": "display_data"
    }
   ],
   "source": [
    "df2 = df[df['Aggregate rating'].notnull()]\n",
    "df2.hist(column = 'Aggregate rating')"
   ]
  },
  {
   "cell_type": "markdown",
   "metadata": {},
   "source": [
    "#### 3.3: Plot the bar graph top 10 restaurants in the data with the highest number of votes."
   ]
  },
  {
   "cell_type": "code",
   "execution_count": 28,
   "metadata": {},
   "outputs": [
    {
     "data": {
      "text/plain": [
       "<matplotlib.axes._subplots.AxesSubplot at 0x7f7f0cd45b50>"
      ]
     },
     "execution_count": 28,
     "metadata": {},
     "output_type": "execute_result"
    },
    {
     "data": {
      "image/png": "[encoded data removed]",
      "text/plain": [
       "<Figure size 432x288 with 1 Axes>"
      ]
     },
     "metadata": {
      "needs_background": "light"
     },
     "output_type": "display_data"
    }
   ],
   "source": [
    "df3 = df.sort_values(['Votes'], ascending=[False]).head(10)\n",
    "df3.plot(x='Restaurant Name', y='Votes', kind = 'bar')"
   ]
  },
  {
   "cell_type": "markdown",
   "metadata": {},
   "source": [
    "#### 3.4: Plot the pie graph of top 10 cuisines present in restaurants in the USA."
   ]
  },
  {
   "cell_type": "markdown",
   "metadata": {},
   "source": [
    "In the following code I first split the cuisines and made seperate row for each cuisine.\n",
    "Then I count the number of each cuisines present in datafram and sorted and took top 10"
   ]
  },
  {
   "cell_type": "code",
   "execution_count": 30,
   "metadata": {},
   "outputs": [
    {
     "data": {
      "text/plain": [
       "<matplotlib.axes._subplots.AxesSubplot at 0x7f7f0db58290>"
      ]
     },
     "execution_count": 30,
     "metadata": {},
     "output_type": "execute_result"
    },
    {
     "data": {
      "image/png": "[encoded data removed]",
      "text/plain": [
       "<Figure size 432x288 with 1 Axes>"
      ]
     },
     "metadata": {},
     "output_type": "display_data"
    }
   ],
   "source": [
    "df4 = df[df['Country Code'] == 216]\n",
    "df4 = df[['Cuisines']]\n",
    "df4 = df4[df4['Cuisines'].notnull()]\n",
    "\n",
    "def f(a):\n",
    "    s = a.split(',')\n",
    "    return s\n",
    "\n",
    "df4['Cuisines'] = df4['Cuisines'].apply(lambda x: f(x))\n",
    "\n",
    "df4.reset_index(inplace = True)\n",
    "rows = []\n",
    "_ = df4.apply(lambda row: [rows.append([nn])for nn in row.Cuisines], axis = 1)\n",
    "\n",
    "df_new = pd.DataFrame(rows, columns = ['cuisine'])\n",
    "\n",
    "df_new.groupby('cuisine').size().sort_values(ascending=False).head(10).plot(kind = 'pie')"
   ]
  },
  {
   "cell_type": "markdown",
   "metadata": {},
   "source": [
    "#### 3.5: Plot the bubble graph of a number of Restaurants present in the city of India and keeping the weighted restaurant rating of the city in a bubble."
   ]
  },
  {
   "cell_type": "code",
   "execution_count": 36,
   "metadata": {},
   "outputs": [
    {
     "data": {
      "image/png": "[encoded data removed]",
      "text/plain": [
       "<Figure size 1440x720 with 1 Axes>"
      ]
     },
     "metadata": {
      "needs_background": "light"
     },
     "output_type": "display_data"
    }
   ],
   "source": [
    "df5 = df[df['Country Code'] == 1].copy(deep = True)\n",
    "pd.options.mode.chained_assignment = None\n",
    "df5['prod'] = df5['Aggregate rating'] * df5['Votes']\n",
    "\n",
    "a = df5.groupby(\"City\").agg(['sum', 'count'])\n",
    "a = a[['Votes','prod']]\n",
    "a['w'] = a['prod']['sum'] / a['Votes']['sum']\n",
    "a = a[['w', 'Votes']] \n",
    "a.columns = a.columns.droplevel()\n",
    "del a['sum']\n",
    "\n",
    "a = a.reset_index(drop = False)\n",
    "\n",
    "a.columns = ['City', 'w', 'count']\n",
    "\n",
    "xi = np.array(a['City'])\n",
    "yi = np.array(a['count'])\n",
    "si = np.array(a['w'])\n",
    "\n",
    "plt.figure(figsize = (20, 10))\n",
    "plt.scatter(x = xi, y = yi, s = si * 10, marker = 'o')\n",
    "plt.xticks(rotation = 90)\n",
    "plt.xlabel('City')\n",
    "plt.ylabel('Number of restaurantsr')\n",
    "plt.legend(['weighted restaurant rating'])\n",
    "\n",
    "plt.show()"
   ]
  }
 ],
 "metadata": {
  "kernelspec": {
   "display_name": "Python 3",
   "language": "python",
   "name": "python3"
  },
  "language_info": {
   "codemirror_mode": {
    "name": "ipython",
    "version": 3
   },
   "file_extension": ".py",
   "mimetype": "text/x-python",
   "name": "python",
   "nbconvert_exporter": "python",
   "pygments_lexer": "ipython3",
   "version": "3.7.6"
  }
 },
 "nbformat": 4,
 "nbformat_minor": 4
}
